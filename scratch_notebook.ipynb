{
 "cells": [
  {
   "cell_type": "markdown",
   "id": "044dbdcf",
   "metadata": {},
   "source": [
    "## Part One"
   ]
  },
  {
   "cell_type": "markdown",
   "id": "e0b83d47",
   "metadata": {},
   "source": [
    "### Load Pickled Data"
   ]
  },
  {
   "cell_type": "code",
   "execution_count": 1,
   "id": "122909a4",
   "metadata": {},
   "outputs": [],
   "source": [
    "from pathlib import Path\n",
    "import pandas as pd\n",
    "\n",
    "df = pd.read_pickle(Path.cwd() / \"pickles\" /\"parsed.pickle\")"
   ]
  },
  {
   "cell_type": "code",
   "execution_count": 18,
   "id": "e5f53b26",
   "metadata": {},
   "outputs": [
    {
     "name": "stderr",
     "output_type": "stream",
     "text": [
      "[nltk_data] Downloading package cmudict to\n",
      "[nltk_data]     /Users/enmanuelmoreno/nltk_data...\n",
      "[nltk_data]   Package cmudict is already up-to-date!\n"
     ]
    },
    {
     "name": "stdout",
     "output_type": "stream",
     "text": [
      "\n",
      "*** Top 10 Subjects by verb 'hear' - Organised by count ***\n",
      "\n",
      "Sense_and_Sensibility\n",
      "['I', 'you', 'she', 'they', 'Elinor', 'he', 'Jennings', 'we', 'Brandon', 'both']\n",
      "\n",
      "\n",
      "North_and_South\n",
      "['she', 'I', 'he', 'you', 'they', 'Margaret', 'we', 'Thornton', 'who', 'yo']\n",
      "\n",
      "\n",
      "A_Tale_of_Two_Cities\n",
      "['I', 'he', 'you', 'she', 'they', 'Monseigneur', 'one', 'Jerry', 'D’ye', 'we']\n",
      "\n",
      "\n",
      "Erewhon\n",
      "['I', 'he', 'they', 'she', 'we', 'who', 'destruction', 'machine', 'one']\n",
      "\n",
      "\n",
      "The_American\n",
      "['he', 'I', 'you', 'she', 'Newman', 'they', 'we', 'who', 'one', 'Valentin']\n",
      "\n",
      "\n",
      "Dorian_Gray\n",
      "['I', 'he', 'one', 'you', 'people', 'lover', 'hast', 'who', 'jar', 'Dorian']\n",
      "\n",
      "\n",
      "Tess_of_the_DUrbervilles\n",
      "['she', 'I', 'they', 'you', 'he', 'who', 'Tess', 'Clare', 'lady', 'queen']\n",
      "\n",
      "\n",
      "The_Golden_Bowl\n",
      "['she', 'he', 'you', 'Maggie', 'man', 'that', 'they', 'who', 'Amerigo', 'which']\n",
      "\n",
      "\n",
      "The_Secret_Garden\n",
      "['I', 'she', 'he', 'you', 'we', 'Mary', 'Lennox', 'they', 'Colin', 'one']\n",
      "\n",
      "\n",
      "Portrait_of_the_Artist\n",
      "['he', 'you', 'I', 'Stephen', 'who', 'they', 'burst', 'listener', 'that', 'one']\n",
      "\n",
      "\n",
      "The_Black_Moth\n",
      "['I', 'he', 'you', 'we', 'Richard', 'she', 'Street', \"ye've\", 'Bettison', 'madam']\n",
      "\n",
      "\n",
      "Orlando\n",
      "['she', 'he', 'Orlando', 'one', 'they', 'I', 'God', 'we', 'that', 'which']\n",
      "\n",
      "\n",
      "Blood_Meridian\n",
      "['he', 'they', 'you', 'I', 'who', 'man', 'she', 'all', 'we', 'nobody']\n",
      "\n",
      "\n"
     ]
    }
   ],
   "source": [
    "# Test subject_by_verb_count\n",
    "import importlib\n",
    "import PartOne as po\n",
    "t = []\n",
    "importlib.reload(po)\n",
    "print(\"\\n*** Top 10 Subjects by verb 'hear' - Organised by count ***\\n\")\n",
    "for i, row in df.iterrows():\n",
    "    print(row[\"title\"])\n",
    "    print(po.subjects_by_verb_count(row[\"parsed\"], \"hear\"))\n",
    "    print(\"\\n\")\n",
    "    t.append(po.subjects_by_verb_count(row[\"parsed\"], \"hear\"))"
   ]
  },
  {
   "cell_type": "code",
   "execution_count": 16,
   "id": "93ca636a",
   "metadata": {},
   "outputs": [
    {
     "name": "stdout",
     "output_type": "stream",
     "text": [
      "['I', 'you', 'she', 'they', 'Elinor', 'he', 'Jennings', 'we', 'Brandon', 'both']\n"
     ]
    }
   ],
   "source": [
    "t_list = [pair[0][1] for pair in t[0]]\n",
    "print(t_list)\n",
    "\n",
    "\n",
    "\n",
    "# for novel in t:\n",
    "#     for pair in novel:\n",
    "#         print(pair)"
   ]
  },
  {
   "cell_type": "markdown",
   "id": "25442120",
   "metadata": {},
   "source": [
    "### Scratched/Tests scripts"
   ]
  },
  {
   "cell_type": "code",
   "execution_count": null,
   "id": "378b7b83",
   "metadata": {},
   "outputs": [],
   "source": [
    "## Get column names\n",
    "df.columns\n",
    "# initialise dictionary\n",
    "adj_dict = {}\n",
    "# Loops thru each row in the df and gets the spacy doc\n",
    "for index, row in df.iterrows():\n",
    "    print(\"-\"*30)\n",
    "    print(row['title'])\n",
    "    doc = row['parsed']\n",
    "    # Loop thru each word of each spacy doc\n",
    "    for token in doc:\n",
    "        if token.pos_ == \"ADJ\":\n",
    "            adj = token.lemma_\n",
    "            adj_dict[adj] = adj_dict.get(adj, 0) + 1\n",
    "\n",
    "# Convert dictionary to lsit of tuples\n",
    "adj_list = list(adj_dict.items())\n",
    "\n",
    "\n",
    "print(adj_list)"
   ]
  },
  {
   "cell_type": "markdown",
   "id": "9f6c1037",
   "metadata": {},
   "source": [
    "#### Test subject by verb count"
   ]
  },
  {
   "cell_type": "code",
   "execution_count": null,
   "id": "d8d52e55",
   "metadata": {},
   "outputs": [],
   "source": [
    "# Test subject_by_verb_count\n",
    "import importlib\n",
    "import PartOne as po\n",
    "\n",
    "importlib.reload(po)\n",
    "\n",
    "\n",
    "df_mini = df.iloc[[0]]\n",
    "#print(df_mini)\n",
    "\n",
    "for i, row in df.iterrows():\n",
    "    print(row['title'])\n",
    "    for pair in po.subjects_by_verb_count(row['parsed'], 'run'):\n",
    "        print(f\"\\t {pair}\")\n"
   ]
  },
  {
   "cell_type": "markdown",
   "id": "e207afd9",
   "metadata": {},
   "source": [
    "### Developing Pointwise mutual information"
   ]
  },
  {
   "cell_type": "markdown",
   "id": "3f1856ee",
   "metadata": {},
   "source": [
    "Use only 1 row of the data frame for development only"
   ]
  },
  {
   "cell_type": "code",
   "execution_count": 3,
   "id": "e0d29737",
   "metadata": {},
   "outputs": [
    {
     "name": "stdout",
     "output_type": "stream",
     "text": [
      "title                                            dummy_text\n",
      "text      The cat hears a mouse. The dog hears a noise. ...\n",
      "parsed    (The, cat, hears, a, mouse, ., The, dog, hears...\n",
      "Name: 0, dtype: object\n"
     ]
    }
   ],
   "source": [
    "import spacy\n",
    "\n",
    "df_mini = df.iloc[0]\n",
    "\n",
    "data = [{'title': \"dummy_text\", 'text': 'The cat hears a mouse. The dog hears a noise. The cat hears the dog.'}]\n",
    "\n",
    "df_mini = pd.DataFrame(data)\n",
    "\n",
    "# load your model\n",
    "\n",
    "nlp = spacy.load(\"en_core_web_sm\")\n",
    "\n",
    "# add parse\n",
    "\n",
    "df_mini['parsed'] = df_mini['text'].apply(nlp)\n",
    "df_mini = df_mini.iloc[0]\n",
    "\n",
    "print(df_mini.head())\n"
   ]
  },
  {
   "cell_type": "markdown",
   "id": "abb963a1",
   "metadata": {},
   "source": [
    "#### Create the Subject-Verb pairs"
   ]
  },
  {
   "cell_type": "code",
   "execution_count": 96,
   "id": "67605fc2",
   "metadata": {},
   "outputs": [
    {
     "name": "stdout",
     "output_type": "stream",
     "text": [
      "dummy_text\n",
      "1. Counts of Verbs and Subjects:\n",
      "\t[{('hear', 'cat'): 2}, {('hear', 'dog'): 1}]\n",
      "\n"
     ]
    }
   ],
   "source": [
    "# count of co occurrence\n",
    "verb = 'hear'\n",
    "verb_subject = po.subjects_by_verb_count(df_mini['parsed'], verb)\n",
    "\n",
    "# for doc in df_mini['parsed']:\n",
    "#     verb_subject = (po.subjects_by_verb_count(doc, \"hear\"))\n",
    "print(df_mini['title'])\n",
    "print(f\"1. Counts of Verbs and Subjects:\\n\\t{verb_subject}\\n\")"
   ]
  },
  {
   "cell_type": "markdown",
   "id": "0daa6e34",
   "metadata": {},
   "source": [
    "#### Extract unique words from the S-V pairs"
   ]
  },
  {
   "cell_type": "code",
   "execution_count": null,
   "id": "4d5509b8",
   "metadata": {},
   "outputs": [
    {
     "name": "stdout",
     "output_type": "stream",
     "text": [
      "2. Extract unique words for total counts: \n",
      "\t{'cat', 'hear', 'dog'}\n",
      "\n"
     ]
    }
   ],
   "source": [
    "# Extract unique objects\n",
    "unique_w = set()\n",
    "for d in verb_subject:\n",
    "    for k in d.keys():\n",
    "        for ind in k:\n",
    "            unique_w.add(ind)\n",
    "\n",
    "\n",
    "\n",
    "print(f\"2. Extract unique words for total counts: \\n\\t{unique_w}\\n\")"
   ]
  },
  {
   "cell_type": "markdown",
   "id": "3d871811",
   "metadata": {},
   "source": [
    "#### Count total words, and count of individual words"
   ]
  },
  {
   "cell_type": "code",
   "execution_count": null,
   "id": "83b1cfaa",
   "metadata": {},
   "outputs": [
    {
     "name": "stdout",
     "output_type": "stream",
     "text": [
      "the\n",
      "cat\n",
      "hear\n",
      "a\n",
      "mouse\n",
      "the\n",
      "dog\n",
      "hear\n",
      "a\n",
      "noise\n",
      "the\n",
      "cat\n",
      "hear\n",
      "the\n",
      "dog\n",
      "3. Total words and total count for existing words: \n",
      "\tTotal words: 15\n",
      "\tTotal count for existing:\n",
      "\t{'cat': 2, 'hear': 3, 'dog': 2}\n"
     ]
    }
   ],
   "source": [
    "# Count word occurrence in whole document, and total tokens in doc\n",
    "total_words = 0\n",
    "# Create and add keys to count the expected words\n",
    "total_existing = {w: 0 for w in unique_w}\n",
    "\n",
    "for token in df_mini['parsed']:\n",
    "\n",
    "    if token.text.isalpha():\n",
    "        total_words += 1\n",
    "        word_lemma = token.lemma_\n",
    "        if word_lemma in total_existing:\n",
    "            total_existing[word_lemma] += 1\n",
    "print(f\"3. Total words and total count for existing words: \\n\\tTotal words: {total_words}\\n\\tTotal count for existing:\\n\\t{total_existing}\")\n",
    "       "
   ]
  },
  {
   "cell_type": "markdown",
   "id": "a7e36d18",
   "metadata": {},
   "source": [
    "#### Calculate PPMI for the pair of the top 10 S-V pairs"
   ]
  },
  {
   "cell_type": "code",
   "execution_count": 99,
   "id": "005fa7b5",
   "metadata": {},
   "outputs": [
    {
     "name": "stdout",
     "output_type": "stream",
     "text": [
      "Key: ('hear', 'cat'), PPMI: 2.322\n",
      "Key: ('hear', 'dog'), PPMI: 1.322\n",
      "[(('hear', 'cat'), 2.322), (('hear', 'dog'), 1.322)]\n"
     ]
    }
   ],
   "source": [
    "import math\n",
    "# Probability of the verb (context)\n",
    "p_c = total_existing[verb]/total_words\n",
    "ppmi_dict = {}\n",
    "# Loop over the dictionary of the 10 s-v pairs\n",
    "for d in verb_subject:\n",
    "    for key, value in d.items():\n",
    "        # probability of the pair verb-subject\n",
    "        p_wc = value/total_words\n",
    "        # Probability of the subject (word)\n",
    "        p_w = total_existing[key[1]]/total_words\n",
    "        # Calculate PMI\n",
    "        pmi = p_wc/(p_w * p_c)\n",
    "        pmi = math.log2(pmi)\n",
    "        ppmi = max(pmi,0)\n",
    "        print(f\"Key: {key}, PPMI: {round(ppmi,3)}\")\n",
    "        # Add value to final dict\n",
    "        ppmi_dict[key] = ppmi_dict.get(key, round(ppmi,3))\n",
    "# Sort final dictionary\n",
    "ppmi_dict = sorted(ppmi_dict.items(), key = lambda item: item[1], reverse = True)\n",
    "\n",
    "print(ppmi_dict)"
   ]
  },
  {
   "cell_type": "markdown",
   "id": "9d366b64",
   "metadata": {},
   "source": [
    "### Counting all syntactic objects"
   ]
  },
  {
   "cell_type": "markdown",
   "id": "2047769c",
   "metadata": {},
   "source": [
    "Understanding dep_ tags"
   ]
  },
  {
   "cell_type": "code",
   "execution_count": 18,
   "id": "ecb5dffe",
   "metadata": {},
   "outputs": [
    {
     "name": "stdout",
     "output_type": "stream",
     "text": [
      "['ROOT', 'acl', 'acomp', 'advcl', 'advmod', 'agent', 'amod', 'appos', 'attr', 'aux', 'auxpass', 'case', 'cc', 'ccomp', 'compound', 'conj', 'csubj', 'csubjpass', 'dative', 'dep', 'det', 'dobj', 'expl', 'intj', 'mark', 'meta', 'neg', 'nmod', 'npadvmod', 'nsubj', 'nsubjpass', 'nummod', 'oprd', 'parataxis', 'pcomp', 'pobj', 'poss', 'preconj', 'predet', 'prep', 'prt', 'punct', 'quantmod', 'relcl', 'xcomp']\n"
     ]
    }
   ],
   "source": [
    "import spacy\n",
    "\n",
    "nlp = spacy.load(\"en_core_web_sm\")\n",
    "\n",
    "print(nlp.pipe_labels['parser'])\n"
   ]
  },
  {
   "cell_type": "code",
   "execution_count": 14,
   "id": "3516ce87",
   "metadata": {},
   "outputs": [
    {
     "name": "stdout",
     "output_type": "stream",
     "text": [
      "-----------\n",
      "{'nsubjpass', 'nmod', 'compound', 'prep', 'oprd', 'dative', 'conj', 'attr', 'preconj', 'mark', 'relcl', 'ccomp', 'nsubj', 'det', 'appos', 'auxpass', 'pcomp', 'dep', 'parataxis', 'advmod', 'quantmod', 'advcl', 'neg', 'acl', 'punct', 'prt', 'intj', 'dobj', 'case', 'predet', 'acomp', 'pobj', 'npadvmod', 'xcomp', 'ROOT', 'csubj', 'aux', 'cc', 'csubjpass', 'agent', 'meta', 'nummod', 'expl', 'amod', 'poss'}\n"
     ]
    }
   ],
   "source": [
    "synt_obj = set()\n",
    "\n",
    "for doc in df['parsed']:\n",
    "    for token in doc:\n",
    "        synt_obj.add(token.dep_)\n",
    "\n",
    "print('-----------')\n",
    "print(synt_obj)\n"
   ]
  },
  {
   "cell_type": "code",
   "execution_count": 17,
   "id": "aa1a0b74",
   "metadata": {},
   "outputs": [
    {
     "name": "stdout",
     "output_type": "stream",
     "text": [
      "--------------------\n",
      "nsubjpass: nominal subject (passive)\n",
      "--------------------\n",
      "--------------------\n",
      "nmod: modifier of nominal\n",
      "--------------------\n",
      "--------------------\n",
      "compound: compound\n",
      "--------------------\n",
      "--------------------\n",
      "prep: prepositional modifier\n",
      "--------------------\n",
      "--------------------\n",
      "oprd: object predicate\n",
      "--------------------\n",
      "--------------------\n",
      "dative: dative\n",
      "--------------------\n",
      "--------------------\n",
      "conj: conjunct\n",
      "--------------------\n",
      "--------------------\n",
      "attr: attribute\n",
      "--------------------\n",
      "--------------------\n",
      "preconj: pre-correlative conjunction\n",
      "--------------------\n",
      "--------------------\n",
      "mark: marker\n",
      "--------------------\n",
      "--------------------\n",
      "relcl: relative clause modifier\n",
      "--------------------\n",
      "--------------------\n",
      "ccomp: clausal complement\n",
      "--------------------\n",
      "--------------------\n",
      "nsubj: nominal subject\n",
      "--------------------\n",
      "--------------------\n",
      "det: determiner\n",
      "--------------------\n",
      "--------------------\n",
      "appos: appositional modifier\n",
      "--------------------\n",
      "--------------------\n",
      "auxpass: auxiliary (passive)\n",
      "--------------------\n",
      "--------------------\n",
      "pcomp: complement of preposition\n",
      "--------------------\n",
      "--------------------\n",
      "dep: unclassified dependent\n",
      "--------------------\n",
      "--------------------\n",
      "parataxis: parataxis\n",
      "--------------------\n",
      "--------------------\n",
      "advmod: adverbial modifier\n",
      "--------------------\n",
      "--------------------\n",
      "quantmod: modifier of quantifier\n",
      "--------------------\n",
      "--------------------\n",
      "advcl: adverbial clause modifier\n",
      "--------------------\n",
      "--------------------\n",
      "neg: negation modifier\n",
      "--------------------\n",
      "--------------------\n",
      "acl: clausal modifier of noun (adjectival clause)\n",
      "--------------------\n",
      "--------------------\n",
      "punct: punctuation\n",
      "--------------------\n",
      "--------------------\n",
      "prt: particle\n",
      "--------------------\n",
      "--------------------\n",
      "intj: interjection\n",
      "--------------------\n",
      "**************************************************\n",
      "dobj: direct object\n",
      "**************************************************\n",
      "--------------------\n",
      "case: case marking\n",
      "--------------------\n",
      "--------------------\n",
      "predet: None\n",
      "--------------------\n",
      "--------------------\n",
      "acomp: adjectival complement\n",
      "--------------------\n",
      "**************************************************\n",
      "pobj: object of preposition\n",
      "**************************************************\n",
      "--------------------\n",
      "npadvmod: noun phrase as adverbial modifier\n",
      "--------------------\n",
      "--------------------\n",
      "xcomp: open clausal complement\n",
      "--------------------\n",
      "--------------------\n",
      "ROOT: root\n",
      "--------------------\n",
      "--------------------\n",
      "csubj: clausal subject\n",
      "--------------------\n",
      "--------------------\n",
      "aux: auxiliary\n",
      "--------------------\n",
      "--------------------\n",
      "cc: coordinating conjunction\n",
      "--------------------\n",
      "--------------------\n",
      "csubjpass: clausal subject (passive)\n",
      "--------------------\n",
      "--------------------\n",
      "agent: agent\n",
      "--------------------\n",
      "--------------------\n",
      "meta: meta modifier\n",
      "--------------------\n",
      "--------------------\n",
      "nummod: numeric modifier\n",
      "--------------------\n",
      "--------------------\n",
      "expl: expletive\n",
      "--------------------\n",
      "--------------------\n",
      "amod: adjectival modifier\n",
      "--------------------\n",
      "--------------------\n",
      "poss: possession modifier\n",
      "--------------------\n"
     ]
    }
   ],
   "source": [
    "for t in synt_obj:\n",
    "\n",
    "    exp = spacy.explain(t)\n",
    "\n",
    "    #if exp is not None and \"object\" in exp:\n",
    "    if 'obj' in t:\n",
    "        print(\"*\"*50)\n",
    "        print(f\"{t}: {exp}\")\n",
    "        print(\"*\"*50)\n",
    "    else:\n",
    "        print(\"-\"*20)\n",
    "        print(f\"{t}: {exp}\")\n",
    "        print(\"-\"*20)"
   ]
  },
  {
   "cell_type": "markdown",
   "id": "0f3140c4",
   "metadata": {},
   "source": [
    "Counting all syntactic objects loop"
   ]
  },
  {
   "cell_type": "code",
   "execution_count": null,
   "id": "f699f6fd",
   "metadata": {},
   "outputs": [],
   "source": [
    "syntatic_object = {}\n",
    "none_count = {}\n",
    "for doc in df['parsed']:\n",
    "    for token in doc:\n",
    "        # Extract the type of dependency, explained\n",
    "        dep_explained = spacy.explain(token.dep_)\n",
    "        if dep_explained is None:\n",
    "            word_lemma = token.lemma_\n",
    "            none_count[word_lemma] = none_count.get(word_lemma, 0) + 1\n",
    "        elif \"object\" in dep_explained:\n",
    "            # Lemmatize word\n",
    "            word_lemma = token.lemma_\n",
    "            syntatic_object[word_lemma] = syntatic_object.get(word_lemma, 0) + 1\n",
    "\n",
    "print(f\"========= With Dependencies =========\")\n",
    "for key, value in syntatic_object.items():\n",
    "    print(f\"Key {key} Value {value}\")\n",
    "\n",
    "print(f\"\\n========= Without Dependencies (None) =========\")\n",
    "for key, value in none_count.items():\n",
    "    print(f\"Key {key} Value {value}\")"
   ]
  },
  {
   "cell_type": "markdown",
   "id": "38eaa031",
   "metadata": {},
   "source": [
    "Test that logic works"
   ]
  },
  {
   "cell_type": "code",
   "execution_count": 19,
   "id": "1383cc0c",
   "metadata": {},
   "outputs": [
    {
     "name": "stderr",
     "output_type": "stream",
     "text": [
      "[nltk_data] Downloading package cmudict to\n",
      "[nltk_data]     /Users/enmanuelmoreno/nltk_data...\n",
      "[nltk_data]   Package cmudict is already up-to-date!\n"
     ]
    },
    {
     "name": "stdout",
     "output_type": "stream",
     "text": [
      "{'mouse': 2, 'cat': 1, 'it': 1, 'garden': 1}\n"
     ]
    }
   ],
   "source": [
    "import importlib\n",
    "import PartOne as po\n",
    "import spacy\n",
    "importlib.reload(po)\n",
    "\n",
    "text = 'the cat chased the mouse and caught the mouse, but the dog chased the cat and found it in the garden.'\n",
    "\n",
    "nlp = spacy.load(\"en_core_web_sm\")\n",
    "text_nlp = nlp(text)\n",
    "object_tags = ['dobj', 'iobj', 'oprd', 'obj', 'pobj']\n",
    "syntatic_object = {}\n",
    "\n",
    "for token in text_nlp:\n",
    "    # Extract the type of dependency, explained\n",
    "    dep_tag = token.dep_\n",
    "    if dep_tag in object_tags:\n",
    "        # Lemmatize word\n",
    "        word_lemma = token.lemma_\n",
    "        syntatic_object[word_lemma] = syntatic_object.get(word_lemma, 0) + 1\n",
    "\n",
    "print(syntatic_object)"
   ]
  },
  {
   "cell_type": "code",
   "execution_count": 33,
   "id": "70234406",
   "metadata": {},
   "outputs": [
    {
     "name": "stderr",
     "output_type": "stream",
     "text": [
      "[nltk_data] Downloading package cmudict to\n",
      "[nltk_data]     /Users/enmanuelmoreno/nltk_data...\n",
      "[nltk_data]   Package cmudict is already up-to-date!\n",
      "/Users/enmanuelmoreno/.local/share/virtualenvs/nlp-coursework-2024-25-enmanuelmorego-pEh8u7DC/lib/python3.12/site-packages/spacy/glossary.py:20: UserWarning: [W118] Term 'predet' not found in glossary. It may however be explained in documentation for the corpora used to train the language. Please check `nlp.meta[\"sources\"]` for any relevant links.\n",
      "  warnings.warn(Warnings.W118.format(term=term))\n"
     ]
    },
    {
     "name": "stdout",
     "output_type": "stream",
     "text": [
      "Sense_and_Sensibility\n",
      "[{'it': 706}, {'she': 686}, {'he': 517}, {'they': 405}, {'I': 340}, {'you': 330}, {'which': 251}, {'what': 210}, {'time': 204}, {'herself': 192}]\n",
      "North_and_South\n",
      "[{'she': 884}, {'it': 878}, {'he': 815}, {'I': 587}, {'you': 443}, {'which': 415}, {'what': 389}, {'they': 370}, {'time': 319}, {'Margaret': 242}]\n",
      "A_Tale_of_Two_Cities\n",
      "[{'he': 898}, {'it': 859}, {'you': 436}, {'I': 430}, {'they': 371}, {'she': 349}, {'hand': 295}, {'which': 222}, {'time': 201}, {'himself': 186}]\n",
      "Erewhon\n",
      "[{'which': 415}, {'I': 373}, {'it': 358}, {'they': 307}, {'he': 185}, {'time': 135}, {'that': 121}, {'one': 109}, {'what': 108}, {'we': 101}]\n",
      "The_American\n",
      "[{'it': 876}, {'you': 721}, {'he': 712}, {'I': 657}, {'she': 565}, {'what': 326}, {'that': 289}, {'they': 275}, {'Newman': 237}, {'hand': 232}]\n",
      "Dorian_Gray\n",
      "[{'he': 607}, {'it': 472}, {'I': 439}, {'you': 356}, {'that': 261}, {'life': 193}, {'they': 187}, {'what': 180}, {'she': 178}, {'thing': 131}]\n",
      "Tess_of_the_DUrbervilles\n",
      "[{'she': 862}, {'it': 624}, {'he': 577}, {'I': 464}, {'you': 394}, {'they': 374}, {'which': 373}, {'time': 235}, {'that': 215}, {'what': 200}]\n",
      "The_Golden_Bowl\n",
      "[{'it': 1793}, {'she': 1498}, {'he': 1218}, {'which': 763}, {'what': 745}, {'they': 678}, {'I': 487}, {'you': 466}, {'that': 409}, {'time': 358}]\n",
      "The_Secret_Garden\n",
      "[{'it': 626}, {'he': 449}, {'she': 351}, {'I': 211}, {'they': 207}, {'garden': 185}, {'thing': 163}, {'what': 159}, {'you': 141}, {'one': 114}]\n",
      "Portrait_of_the_Artist\n",
      "[{'he': 610}, {'it': 304}, {'they': 217}, {'which': 168}, {'you': 157}, {'eye': 125}, {'hand': 120}, {'what': 109}, {'God': 109}, {'I': 109}]\n",
      "The_Black_Moth\n",
      "[{'he': 738}, {'you': 522}, {'I': 489}, {'it': 470}, {'she': 416}, {'hand': 217}, {'that': 168}, {'eye': 142}, {'_': 140}, {'what': 133}]\n",
      "Orlando\n",
      "[{'it': 313}, {'she': 279}, {'he': 255}, {'they': 217}, {'which': 195}, {'time': 103}, {'that': 99}, {'hand': 98}, {'man': 89}, {'life': 80}]\n",
      "Blood_Meridian\n",
      "[{'they': 665}, {'he': 659}, {'it': 576}, {'horse': 285}, {'man': 269}, {'hand': 221}, {'head': 185}, {'fire': 161}, {'one': 127}, {'what': 124}]\n"
     ]
    }
   ],
   "source": [
    "import importlib\n",
    "import PartOne as po\n",
    "\n",
    "importlib.reload(po)\n",
    "\n",
    "for i, row in df.iterrows():\n",
    "    print(row['title'])\n",
    "    print(po.count_obj(row['parsed']))"
   ]
  },
  {
   "cell_type": "code",
   "execution_count": 10,
   "id": "bb03cec2",
   "metadata": {},
   "outputs": [
    {
     "name": "stderr",
     "output_type": "stream",
     "text": [
      "[nltk_data] Downloading package cmudict to\n",
      "[nltk_data]     /Users/enmanuelmoreno/nltk_data...\n",
      "[nltk_data]   Package cmudict is already up-to-date!\n"
     ]
    },
    {
     "name": "stdout",
     "output_type": "stream",
     "text": [
      "[{'mouse': 2}, {'cat': 1}, {'it': 1}, {'garden': 1}]\n"
     ]
    }
   ],
   "source": [
    "import importlib\n",
    "import PartOne as po\n",
    "import spacy\n",
    "importlib.reload(po)\n",
    "\n",
    "text = 'the cat chased the mouse and caught the mouse, but the dog chased the cat and found it in the garden.'\n",
    "\n",
    "nlp = spacy.load(\"en_core_web_sm\")\n",
    "text_nlp = nlp(text)\n",
    "\n",
    "count_dict = po.count_obj(text_nlp)\n",
    "\n",
    "print(count_dict)"
   ]
  },
  {
   "cell_type": "markdown",
   "id": "4244a5e9",
   "metadata": {},
   "source": [
    "## Part Two"
   ]
  },
  {
   "cell_type": "markdown",
   "id": "0f5aff10",
   "metadata": {},
   "source": [
    "### Load Data"
   ]
  },
  {
   "cell_type": "code",
   "execution_count": 3,
   "id": "7c30897a",
   "metadata": {},
   "outputs": [
    {
     "data": {
      "text/html": [
       "<div>\n",
       "<style scoped>\n",
       "    .dataframe tbody tr th:only-of-type {\n",
       "        vertical-align: middle;\n",
       "    }\n",
       "\n",
       "    .dataframe tbody tr th {\n",
       "        vertical-align: top;\n",
       "    }\n",
       "\n",
       "    .dataframe thead th {\n",
       "        text-align: right;\n",
       "    }\n",
       "</style>\n",
       "<table border=\"1\" class=\"dataframe\">\n",
       "  <thead>\n",
       "    <tr style=\"text-align: right;\">\n",
       "      <th></th>\n",
       "      <th>speech</th>\n",
       "      <th>party</th>\n",
       "      <th>constituency</th>\n",
       "      <th>date</th>\n",
       "      <th>speech_class</th>\n",
       "      <th>major_heading</th>\n",
       "      <th>year</th>\n",
       "      <th>speakername</th>\n",
       "    </tr>\n",
       "  </thead>\n",
       "  <tbody>\n",
       "    <tr>\n",
       "      <th>0</th>\n",
       "      <td>Unemployment is soaring, uptake in benefits ha...</td>\n",
       "      <td>Labour</td>\n",
       "      <td>Portsmouth South</td>\n",
       "      <td>2020-09-14</td>\n",
       "      <td>Speech</td>\n",
       "      <td>Work and Pensions</td>\n",
       "      <td>2020</td>\n",
       "      <td>Stephen Morgan</td>\n",
       "    </tr>\n",
       "    <tr>\n",
       "      <th>1</th>\n",
       "      <td>I thank the hon. Gentleman for raising issues ...</td>\n",
       "      <td>Conservative</td>\n",
       "      <td>Mid Sussex</td>\n",
       "      <td>2020-09-14</td>\n",
       "      <td>Speech</td>\n",
       "      <td>Work and Pensions</td>\n",
       "      <td>2020</td>\n",
       "      <td>Mims Davies</td>\n",
       "    </tr>\n",
       "    <tr>\n",
       "      <th>2</th>\n",
       "      <td>As my hon. Friend the Member for Portsmouth So...</td>\n",
       "      <td>Labour</td>\n",
       "      <td>Warwick and Leamington</td>\n",
       "      <td>2020-09-14</td>\n",
       "      <td>Speech</td>\n",
       "      <td>Work and Pensions</td>\n",
       "      <td>2020</td>\n",
       "      <td>Matt Western</td>\n",
       "    </tr>\n",
       "    <tr>\n",
       "      <th>3</th>\n",
       "      <td>I thank the hon. Gentleman for raising the nee...</td>\n",
       "      <td>Conservative</td>\n",
       "      <td>Mid Sussex</td>\n",
       "      <td>2020-09-14</td>\n",
       "      <td>Speech</td>\n",
       "      <td>Work and Pensions</td>\n",
       "      <td>2020</td>\n",
       "      <td>Mims Davies</td>\n",
       "    </tr>\n",
       "    <tr>\n",
       "      <th>4</th>\n",
       "      <td>There is no doubt that the unemployment situat...</td>\n",
       "      <td>Labour</td>\n",
       "      <td>Ellesmere Port and Neston</td>\n",
       "      <td>2020-09-14</td>\n",
       "      <td>Speech</td>\n",
       "      <td>Work and Pensions</td>\n",
       "      <td>2020</td>\n",
       "      <td>Justin Madders</td>\n",
       "    </tr>\n",
       "  </tbody>\n",
       "</table>\n",
       "</div>"
      ],
      "text/plain": [
       "                                              speech         party  \\\n",
       "0  Unemployment is soaring, uptake in benefits ha...        Labour   \n",
       "1  I thank the hon. Gentleman for raising issues ...  Conservative   \n",
       "2  As my hon. Friend the Member for Portsmouth So...        Labour   \n",
       "3  I thank the hon. Gentleman for raising the nee...  Conservative   \n",
       "4  There is no doubt that the unemployment situat...        Labour   \n",
       "\n",
       "                constituency        date speech_class      major_heading  \\\n",
       "0           Portsmouth South  2020-09-14       Speech  Work and Pensions   \n",
       "1                 Mid Sussex  2020-09-14       Speech  Work and Pensions   \n",
       "2     Warwick and Leamington  2020-09-14       Speech  Work and Pensions   \n",
       "3                 Mid Sussex  2020-09-14       Speech  Work and Pensions   \n",
       "4  Ellesmere Port and Neston  2020-09-14       Speech  Work and Pensions   \n",
       "\n",
       "   year     speakername  \n",
       "0  2020  Stephen Morgan  \n",
       "1  2020     Mims Davies  \n",
       "2  2020    Matt Western  \n",
       "3  2020     Mims Davies  \n",
       "4  2020  Justin Madders  "
      ]
     },
     "execution_count": 3,
     "metadata": {},
     "output_type": "execute_result"
    }
   ],
   "source": [
    "import PartTwo as pt\n",
    "import importlib\n",
    "importlib.reload(pt)\n",
    "\n",
    "speeches_df = pt.read_speeches_csv()\n",
    "speeches_df.head()\n"
   ]
  },
  {
   "cell_type": "markdown",
   "id": "b8a45155",
   "metadata": {},
   "source": [
    "### Data transformation"
   ]
  },
  {
   "cell_type": "code",
   "execution_count": null,
   "id": "dfe52bb2",
   "metadata": {},
   "outputs": [
    {
     "data": {
      "text/plain": [
       "party\n",
       "Conservative                        25079\n",
       "Labour                               6995\n",
       "Scottish National Party              2303\n",
       "Labour (Co-op)                       1043\n",
       "Speaker                               878\n",
       "Liberal Democrat                      803\n",
       "Democratic Unionist Party             639\n",
       "Independent                           243\n",
       "Plaid Cymru                           173\n",
       "Social Democratic & Labour Party       75\n",
       "Alliance                               65\n",
       "Green Party                            55\n",
       "Alba Party                              2\n",
       "Name: count, dtype: int64"
      ]
     },
     "execution_count": 44,
     "metadata": {},
     "output_type": "execute_result"
    }
   ],
   "source": [
    "speeches_df['party'].value_counts()\n"
   ]
  },
  {
   "cell_type": "code",
   "execution_count": 45,
   "id": "ca612aae",
   "metadata": {},
   "outputs": [
    {
     "data": {
      "text/plain": [
       "party\n",
       "Conservative                        25079\n",
       "Labour                               8038\n",
       "Scottish National Party              2303\n",
       "Speaker                               878\n",
       "Liberal Democrat                      803\n",
       "Democratic Unionist Party             639\n",
       "Independent                           243\n",
       "Plaid Cymru                           173\n",
       "Social Democratic & Labour Party       75\n",
       "Alliance                               65\n",
       "Green Party                            55\n",
       "Alba Party                              2\n",
       "Name: count, dtype: int64"
      ]
     },
     "execution_count": 45,
     "metadata": {},
     "output_type": "execute_result"
    }
   ],
   "source": [
    "speeches_df_c = speeches_df.replace('Labour (Co-op)', 'Labour')\n",
    "speeches_df_c['party'].value_counts()"
   ]
  },
  {
   "cell_type": "code",
   "execution_count": 55,
   "id": "97095b29",
   "metadata": {},
   "outputs": [
    {
     "name": "stdout",
     "output_type": "stream",
     "text": [
      "<bound method Series.sort_values of party\n",
      "Conservative                        25079\n",
      "Labour                               8038\n",
      "Scottish National Party              2303\n",
      "Speaker                               878\n",
      "Liberal Democrat                      803\n",
      "Democratic Unionist Party             639\n",
      "Independent                           243\n",
      "Plaid Cymru                           173\n",
      "Social Democratic & Labour Party       75\n",
      "Alliance                               65\n",
      "Green Party                            55\n",
      "Alba Party                              2\n",
      "Name: count, dtype: int64>\n"
     ]
    }
   ],
   "source": [
    "top_parties = speeches_df_c['party'].value_counts().sort_values\n",
    "print(top_parties)"
   ]
  },
  {
   "cell_type": "code",
   "execution_count": 52,
   "id": "75dcc8d5",
   "metadata": {},
   "outputs": [
    {
     "data": {
      "text/plain": [
       "6995"
      ]
     },
     "execution_count": 52,
     "metadata": {},
     "output_type": "execute_result"
    }
   ],
   "source": [
    "speeches_df.loc[speeches_df['party'] == 'Labour'].shape[0]"
   ]
  },
  {
   "cell_type": "code",
   "execution_count": 89,
   "id": "9847508f",
   "metadata": {},
   "outputs": [
    {
     "data": {
      "text/plain": [
       "party\n",
       "Conservative               25079\n",
       "Labour                      8038\n",
       "Scottish National Party     2303\n",
       "Liberal Democrat             803\n",
       "Name: count, dtype: int64"
      ]
     },
     "execution_count": 89,
     "metadata": {},
     "output_type": "execute_result"
    }
   ],
   "source": [
    "reduced = speeches_df_c[speeches_df_c['party'] != 'Speaker']\n",
    "reduced = reduced[reduced['speech_class'] == 'Speech']\n",
    "\n",
    "common = reduced['party'].value_counts().sort_values(ascending=False)\n",
    "top4 = common.index[:4].tolist()\n",
    "reduced2 = reduced[reduced['party'].isin(top4)]\n",
    "reduced2['party'].value_counts()\n"
   ]
  },
  {
   "cell_type": "code",
   "execution_count": 7,
   "id": "228fd82c",
   "metadata": {},
   "outputs": [
    {
     "data": {
      "text/plain": [
       "speech_class\n",
       "Speech        38457\n",
       "Procedural     1394\n",
       "Division        149\n",
       "Name: count, dtype: int64"
      ]
     },
     "execution_count": 7,
     "metadata": {},
     "output_type": "execute_result"
    }
   ],
   "source": [
    "import PartTwo as pt\n",
    "df_test = pt.speeches_clean(speeches_df)\n",
    "speeches_df['speech_class'].value_counts()"
   ]
  },
  {
   "cell_type": "markdown",
   "id": "e96059ff",
   "metadata": {},
   "source": [
    "### Data preprocessing "
   ]
  },
  {
   "cell_type": "code",
   "execution_count": 6,
   "id": "ac176279",
   "metadata": {},
   "outputs": [],
   "source": [
    "import PartTwo as pt\n",
    "import importlib\n",
    "importlib.reload(pt)\n",
    "\n",
    "speeches_df = pt.read_speeches_csv()\n",
    "df = pt.speeches_clean(speeches_df)\n"
   ]
  },
  {
   "cell_type": "markdown",
   "id": "a7c0bab3",
   "metadata": {},
   "source": [
    "#### Testing Stratified sampling algorithm"
   ]
  },
  {
   "cell_type": "code",
   "execution_count": 11,
   "id": "1fa1baff",
   "metadata": {},
   "outputs": [
    {
     "data": {
      "text/plain": [
       "party\n",
       "Conservative               0.692353\n",
       "Labour                     0.221892\n",
       "Scottish National Party    0.063565\n",
       "Liberal Democrat           0.022189\n",
       "Name: count, dtype: float64"
      ]
     },
     "execution_count": 11,
     "metadata": {},
     "output_type": "execute_result"
    }
   ],
   "source": [
    "from sklearn.model_selection import StratifiedShuffleSplit\n",
    "# Generate object that splits data\n",
    "splitter_obj = StratifiedShuffleSplit(n_splits = 1, test_size = 0.2, random_state = 26) \n",
    "    # Split data\n",
    "for train_index, test_index in splitter_obj.split(df, df['party']):\n",
    "    train = df.iloc[train_index]\n",
    "    test = df.iloc[test_index]\n",
    "\n",
    "train['party'].value_counts()/len(train)\n",
    "\n",
    "\n"
   ]
  },
  {
   "cell_type": "code",
   "execution_count": null,
   "id": "89a00758",
   "metadata": {},
   "outputs": [],
   "source": [
    "test['party'].value_counts()/len(test)"
   ]
  },
  {
   "cell_type": "code",
   "execution_count": 16,
   "id": "b98beeb6",
   "metadata": {},
   "outputs": [],
   "source": [
    "import PartTwo as pt\n",
    "import importlib\n",
    "importlib.reload(pt)\n",
    "\n",
    "\n",
    "# Test function\n",
    "x_train, x_test, y_train, y_test, train_text, test_text = pt.data_pre_processing(df)"
   ]
  },
  {
   "cell_type": "markdown",
   "id": "675dd046",
   "metadata": {},
   "source": [
    "#### Random Forest"
   ]
  },
  {
   "cell_type": "code",
   "execution_count": null,
   "id": "3e19b72b",
   "metadata": {},
   "outputs": [],
   "source": [
    "from sklearn.ensemble import RandomForestClassifier\n",
    "\n",
    "random_forest = RandomForestClassifier(n_estimators=300, n_jobs = -1)\n",
    "random_forest.fit(x_train, y_train)\n",
    "random_forest_predict = random_forest.predict(x_test)"
   ]
  },
  {
   "cell_type": "markdown",
   "id": "c95002c5",
   "metadata": {},
   "source": [
    "#### SVM"
   ]
  },
  {
   "cell_type": "code",
   "execution_count": 25,
   "id": "7e5335c7",
   "metadata": {},
   "outputs": [],
   "source": [
    "from sklearn.svm import LinearSVC\n",
    "\n",
    "svm = LinearSVC()\n",
    "svm.fit(x_train, y_train)\n",
    "svm_y_predict = svm.predict(x_test)"
   ]
  },
  {
   "cell_type": "code",
   "execution_count": 24,
   "id": "0979e4ca",
   "metadata": {},
   "outputs": [
    {
     "name": "stdout",
     "output_type": "stream",
     "text": [
      "==================== Random Forest Performance ====================\n",
      "                         precision    recall  f1-score   support\n",
      "\n",
      "                 Labour       0.80      0.97      0.88      5016\n",
      "           Conservative       0.71      0.47      0.57      1608\n",
      "Scottish National Party       0.00      0.00      0.00       160\n",
      "       Liberal Democrat       0.87      0.22      0.35       461\n",
      "\n",
      "               accuracy                           0.79      7245\n",
      "              macro avg       0.60      0.41      0.45      7245\n",
      "           weighted avg       0.77      0.79      0.75      7245\n",
      "\n"
     ]
    },
    {
     "name": "stderr",
     "output_type": "stream",
     "text": [
      "/Users/enmanuelmoreno/.local/share/virtualenvs/nlp-coursework-2024-25-enmanuelmorego-pEh8u7DC/lib/python3.12/site-packages/sklearn/metrics/_classification.py:1706: UndefinedMetricWarning: Precision is ill-defined and being set to 0.0 in labels with no predicted samples. Use `zero_division` parameter to control this behavior.\n",
      "  _warn_prf(average, modifier, f\"{metric.capitalize()} is\", result.shape[0])\n",
      "/Users/enmanuelmoreno/.local/share/virtualenvs/nlp-coursework-2024-25-enmanuelmorego-pEh8u7DC/lib/python3.12/site-packages/sklearn/metrics/_classification.py:1706: UndefinedMetricWarning: Precision is ill-defined and being set to 0.0 in labels with no predicted samples. Use `zero_division` parameter to control this behavior.\n",
      "  _warn_prf(average, modifier, f\"{metric.capitalize()} is\", result.shape[0])\n",
      "/Users/enmanuelmoreno/.local/share/virtualenvs/nlp-coursework-2024-25-enmanuelmorego-pEh8u7DC/lib/python3.12/site-packages/sklearn/metrics/_classification.py:1706: UndefinedMetricWarning: Precision is ill-defined and being set to 0.0 in labels with no predicted samples. Use `zero_division` parameter to control this behavior.\n",
      "  _warn_prf(average, modifier, f\"{metric.capitalize()} is\", result.shape[0])\n"
     ]
    }
   ],
   "source": [
    "from sklearn.metrics import classification_report\n",
    "target_names = y_test.unique()\n",
    "\n",
    "print(f\"{\"=\"*20} Random Forest Performance {\"=\"*20}\")\n",
    "print(classification_report(y_test, random_forest_predict, target_names = target_names))"
   ]
  },
  {
   "cell_type": "code",
   "execution_count": 26,
   "id": "e617f1ea",
   "metadata": {},
   "outputs": [
    {
     "name": "stdout",
     "output_type": "stream",
     "text": [
      "==================== SVC Performance ====================\n",
      "                         precision    recall  f1-score   support\n",
      "\n",
      "                 Labour       0.85      0.93      0.89      5016\n",
      "           Conservative       0.65      0.60      0.62      1608\n",
      "Scottish National Party       0.61      0.11      0.18       160\n",
      "       Liberal Democrat       0.63      0.37      0.47       461\n",
      "\n",
      "               accuracy                           0.80      7245\n",
      "              macro avg       0.68      0.50      0.54      7245\n",
      "           weighted avg       0.79      0.80      0.78      7245\n",
      "\n"
     ]
    }
   ],
   "source": [
    "print(f\"{\"=\"*20} SVC Performance {\"=\"*20}\")\n",
    "print(classification_report(y_test, svm_y_predict, target_names = target_names))"
   ]
  },
  {
   "cell_type": "code",
   "execution_count": 21,
   "id": "9ed4e058",
   "metadata": {},
   "outputs": [
    {
     "data": {
      "image/png": "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