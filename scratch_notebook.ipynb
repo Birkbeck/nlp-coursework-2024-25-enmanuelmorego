{
 "cells": [
  {
   "cell_type": "markdown",
   "id": "e0b83d47",
   "metadata": {},
   "source": [
    "### Load Pickled Data"
   ]
  },
  {
   "cell_type": "code",
   "execution_count": 17,
   "id": "122909a4",
   "metadata": {},
   "outputs": [],
   "source": [
    "from pathlib import Path\n",
    "import pandas as pd\n",
    "\n",
    "df = pd.read_pickle(Path.cwd() / \"pickles\" /\"parsed.pickle\")"
   ]
  },
  {
   "cell_type": "markdown",
   "id": "25442120",
   "metadata": {},
   "source": [
    "### Scratched/Tests scripts"
   ]
  },
  {
   "cell_type": "code",
   "execution_count": null,
   "id": "378b7b83",
   "metadata": {},
   "outputs": [],
   "source": [
    "## Get column names\n",
    "df.columns\n",
    "# initialise dictionary\n",
    "adj_dict = {}\n",
    "# Loops thru each row in the df and gets the spacy doc\n",
    "for index, row in df.iterrows():\n",
    "    print(\"-\"*30)\n",
    "    print(row['title'])\n",
    "    doc = row['parsed']\n",
    "    # Loop thru each word of each spacy doc\n",
    "    for token in doc:\n",
    "        if token.pos_ == \"ADJ\":\n",
    "            adj = token.lemma_\n",
    "            adj_dict[adj] = adj_dict.get(adj, 0) + 1\n",
    "\n",
    "# Convert dictionary to lsit of tuples\n",
    "adj_list = list(adj_dict.items())\n",
    "\n",
    "\n",
    "print(adj_list)"
   ]
  },
  {
   "cell_type": "markdown",
   "id": "9f6c1037",
   "metadata": {},
   "source": [
    "#### Test subject by verb count"
   ]
  },
  {
   "cell_type": "code",
   "execution_count": null,
   "id": "d8d52e55",
   "metadata": {},
   "outputs": [],
   "source": [
    "# Test subject_by_verb_count\n",
    "import importlib\n",
    "import PartOne as po\n",
    "\n",
    "importlib.reload(po)\n",
    "\n",
    "\n",
    "df_mini = df.iloc[[0]]\n",
    "#print(df_mini)\n",
    "\n",
    "for i, row in df.iterrows():\n",
    "    print(row['title'])\n",
    "    for pair in po.subjects_by_verb_count(row['parsed'], 'run'):\n",
    "        print(f\"\\t {pair}\")\n"
   ]
  },
  {
   "cell_type": "markdown",
   "id": "e207afd9",
   "metadata": {},
   "source": [
    "### Developing Pointwise mutual information"
   ]
  },
  {
   "cell_type": "markdown",
   "id": "3f1856ee",
   "metadata": {},
   "source": [
    "Use only 1 row of the data frame for development only"
   ]
  },
  {
   "cell_type": "code",
   "execution_count": 15,
   "id": "e0d29737",
   "metadata": {},
   "outputs": [],
   "source": [
    "df_mini = df.iloc[0]"
   ]
  },
  {
   "cell_type": "markdown",
   "id": "abb963a1",
   "metadata": {},
   "source": [
    "#### Create the Subject-Verb pairs"
   ]
  },
  {
   "cell_type": "code",
   "execution_count": 18,
   "id": "67605fc2",
   "metadata": {},
   "outputs": [
    {
     "name": "stdout",
     "output_type": "stream",
     "text": [
      "Sense_and_Sensibility\n",
      "1. Counts of Verbs and Subjects:\n",
      "\t[{('hear', 'I'): 32}, {('hear', 'you'): 19}, {('hear', 'she'): 14}, {('hear', 'they'): 6}, {('hear', 'Elinor'): 6}, {('hear', 'he'): 6}, {('hear', 'Jennings'): 3}, {('hear', 'we'): 2}, {('hear', 'Brandon'): 1}, {('hear', 'both'): 1}]\n",
      "\n"
     ]
    }
   ],
   "source": [
    "# count of co occurrence\n",
    "verb_subject = po.subjects_by_verb_count(df_mini['parsed'], 'hear')\n",
    "print(df_mini['title'])\n",
    "print(f\"1. Counts of Verbs and Subjects:\\n\\t{verb_subject}\\n\")"
   ]
  },
  {
   "cell_type": "markdown",
   "id": "0daa6e34",
   "metadata": {},
   "source": [
    "#### Extract unique words from the S-V pairs"
   ]
  },
  {
   "cell_type": "code",
   "execution_count": 19,
   "id": "4d5509b8",
   "metadata": {},
   "outputs": [
    {
     "name": "stdout",
     "output_type": "stream",
     "text": [
      "2. Extract unique words for total counts: \n",
      "\t{'Jennings', 'they', 'Elinor', 'Brandon', 'he', 'I', 'hear', 'both', 'you', 'we', 'she'}\n",
      "\n"
     ]
    }
   ],
   "source": [
    "# Extract unique objects\n",
    "unique_w = set()\n",
    "for d in verb_subject:\n",
    "    for k in d.keys():\n",
    "        for ind in k:\n",
    "            unique_w.add(ind)\n",
    "\n",
    "print(f\"2. Extract unique words for total counts: \\n\\t{unique_w}\\n\")"
   ]
  },
  {
   "cell_type": "markdown",
   "id": "3d871811",
   "metadata": {},
   "source": [
    "#### Count total words, and count of individual words"
   ]
  },
  {
   "cell_type": "code",
   "execution_count": null,
   "id": "83b1cfaa",
   "metadata": {},
   "outputs": [
    {
     "name": "stdout",
     "output_type": "stream",
     "text": [
      "{'Jennings': 0, 'they': 0, 'Elinor': 0, 'Brandon': 0, 'he': 0, 'I': 0, 'hear': 0, 'both': 0, 'you': 0, 'we': 0, 'she': 0}\n",
      "{'Jennings': 234, 'they': 977, 'Elinor': 670, 'Brandon': 142, 'he': 1719, 'I': 2386, 'hear': 171, 'both': 93, 'you': 1171, 'we': 301, 'she': 2409}\n"
     ]
    }
   ],
   "source": [
    "# Count word occurrence in whole document, and total tokens in doc\n",
    "total_words = 0\n",
    "# Create and add keys to count the expected words\n",
    "total_existing = {w: 0 for w in unique_w}\n",
    "print(total_existing)\n",
    "\n",
    "\n",
    "for token in df_mini['parsed']:\n",
    "    if token.text.isalpha():\n",
    "        total_words += 1\n",
    "        word_lemma = token.lemma_\n",
    "        if word_lemma in total_existing:\n",
    "            total_existing[word_lemma] += 1\n",
    "print(f\"3. Total words and total count for existing words: \\n\\t- Total words{total_words}\\n\\tTotal count for existing:\\n\\t{total_existing}\")\n",
    "       "
   ]
  }
 ],
 "metadata": {
  "kernelspec": {
   "display_name": "nlp-coursework-2024-25-enmanuelmorego-pEh8u7DC",
   "language": "python",
   "name": "python3"
  },
  "language_info": {
   "codemirror_mode": {
    "name": "ipython",
    "version": 3
   },
   "file_extension": ".py",
   "mimetype": "text/x-python",
   "name": "python",
   "nbconvert_exporter": "python",
   "pygments_lexer": "ipython3",
   "version": "3.12.4"
  }
 },
 "nbformat": 4,
 "nbformat_minor": 5
}
